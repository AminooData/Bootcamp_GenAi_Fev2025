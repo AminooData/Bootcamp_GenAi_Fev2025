{
  "nbformat": 4,
  "nbformat_minor": 0,
  "metadata": {
    "colab": {
      "provenance": []
    },
    "kernelspec": {
      "name": "python3",
      "display_name": "Python 3"
    },
    "language_info": {
      "name": "python"
    }
  },
  "cells": [
    {
      "cell_type": "code",
      "execution_count": 1,
      "metadata": {
        "id": "d2_uQBmsAPIV"
      },
      "outputs": [],
      "source": [
        "!pip install -q nltk numpy pandas networkx"
      ]
    },
    {
      "cell_type": "code",
      "source": [
        "import pandas as pd\n",
        "import nltk\n",
        "import numpy as np\n",
        "import networkx as nx\n",
        "from nltk.tokenize import sent_tokenize\n",
        "from nltk.corpus import stopwords\n",
        "import string\n",
        "import re"
      ],
      "metadata": {
        "id": "vn2Isb0jA10x"
      },
      "execution_count": 2,
      "outputs": []
    },
    {
      "cell_type": "code",
      "source": [
        "nltk.download(\"punkt\")\n",
        "nltk.download(\"stopwords\")"
      ],
      "metadata": {
        "colab": {
          "base_uri": "https://localhost:8080/"
        },
        "id": "T9ehsI_nBBry",
        "outputId": "abf42a7a-59a3-4e12-f793-1b9c6d2075cc"
      },
      "execution_count": 3,
      "outputs": [
        {
          "output_type": "stream",
          "name": "stderr",
          "text": [
            "[nltk_data] Downloading package punkt to /root/nltk_data...\n",
            "[nltk_data]   Unzipping tokenizers/punkt.zip.\n",
            "[nltk_data] Downloading package stopwords to /root/nltk_data...\n",
            "[nltk_data]   Unzipping corpora/stopwords.zip.\n"
          ]
        },
        {
          "output_type": "execute_result",
          "data": {
            "text/plain": [
              "True"
            ]
          },
          "metadata": {},
          "execution_count": 3
        }
      ]
    },
    {
      "cell_type": "code",
      "source": [
        "url = \"https://github.com/devtlv/Datasets-GEN-AI-Bootcamp/raw/refs/heads/main/Week%207/W7D5/tennis_articles.zip\"\n",
        "import pandas as pd\n",
        "\n",
        "url = \"https://github.com/devtlv/Datasets-GEN-AI-Bootcamp/raw/refs/heads/main/Week%207/W7D5/tennis_articles.zip\"\n",
        "# Explicitly specify the encoding as 'latin-1' or 'Windows-1252'\n",
        "df = pd.read_csv(url, encoding='latin-1') # or try encoding='Windows-1252' if 'latin-1' doesn't work"
      ],
      "metadata": {
        "id": "Y3CDCDcbBDVm"
      },
      "execution_count": 5,
      "outputs": []
    },
    {
      "cell_type": "code",
      "source": [
        "print(df.head())"
      ],
      "metadata": {
        "colab": {
          "base_uri": "https://localhost:8080/"
        },
        "id": "OcvZHu0TBf59",
        "outputId": "a5121d18-5474-4c80-8999-cf0ccce3dbc4"
      },
      "execution_count": 6,
      "outputs": [
        {
          "output_type": "stream",
          "name": "stdout",
          "text": [
            "   article_id                                      article_title  \\\n",
            "0           1  I do not have friends in tennis, says Maria Sh...   \n",
            "1           2  Federer defeats Medvedev to advance to 14th Sw...   \n",
            "2           3  Tennis: Roger Federer ignored deadline set by ...   \n",
            "3           4  Nishikori to face off against Anderson in Vien...   \n",
            "4           5  Roger Federer has made this huge change to ten...   \n",
            "\n",
            "                                        article_text  \\\n",
            "0  Maria Sharapova has basically no friends as te...   \n",
            "1  BASEL, Switzerland (AP)  Roger Federer advanc...   \n",
            "2  Roger Federer has revealed that organisers of ...   \n",
            "3  Kei Nishikori will try to end his long losing ...   \n",
            "4  Federer, 37, first broke through on tour over ...   \n",
            "\n",
            "                                              source  \n",
            "0  https://www.tennisworldusa.org/tennis/news/Mar...  \n",
            "1  http://www.tennis.com/pro-game/2018/10/copil-s...  \n",
            "2  https://scroll.in/field/899938/tennis-roger-fe...  \n",
            "3  http://www.tennis.com/pro-game/2018/10/nishiko...  \n",
            "4  https://www.express.co.uk/sport/tennis/1036101...  \n"
          ]
        }
      ]
    },
    {
      "cell_type": "code",
      "source": [
        "df.drop(columns=[\"article_title\"], inplace=True)"
      ],
      "metadata": {
        "id": "V29SibKjBhws"
      },
      "execution_count": 7,
      "outputs": []
    },
    {
      "cell_type": "code",
      "source": [
        "print(f\"Nombre d'articles : {len(df)}\")"
      ],
      "metadata": {
        "colab": {
          "base_uri": "https://localhost:8080/"
        },
        "id": "s8ArG8PHBk_n",
        "outputId": "8e62ab84-0ad3-48d3-abc8-e7aa0a77d723"
      },
      "execution_count": 8,
      "outputs": [
        {
          "output_type": "stream",
          "name": "stdout",
          "text": [
            "Nombre d'articles : 8\n"
          ]
        }
      ]
    },
    {
      "cell_type": "code",
      "source": [
        "def clean_text(text):\n",
        "    text = text.lower()\n",
        "    text = re.sub(r'\\d+', '', text)  # Suppression des chiffres\n",
        "    text = text.translate(str.maketrans(\"\", \"\", string.punctuation))  # Suppression de la ponctuation\n",
        "    words = text.split()\n",
        "    words = [word for word in words if word not in stopwords.words(\"english\")]  # Suppression des stop words\n",
        "    return \" \".join(words)\n"
      ],
      "metadata": {
        "id": "DP3QjJScBnvq"
      },
      "execution_count": 9,
      "outputs": []
    },
    {
      "cell_type": "code",
      "source": [
        "import nltk\n",
        "nltk.download('punkt_tab') # Download the punkt_tab data\n",
        "\n",
        "sentences = []\n",
        "for article in df[\"article_text\"]:\n",
        "    sentences.extend(sent_tokenize(article))"
      ],
      "metadata": {
        "colab": {
          "base_uri": "https://localhost:8080/"
        },
        "id": "oZlKTFVHBt1j",
        "outputId": "162d370a-25f8-4336-b047-14fe11608c08"
      },
      "execution_count": 11,
      "outputs": [
        {
          "output_type": "stream",
          "name": "stderr",
          "text": [
            "[nltk_data] Downloading package punkt_tab to /root/nltk_data...\n",
            "[nltk_data]   Unzipping tokenizers/punkt_tab.zip.\n"
          ]
        }
      ]
    },
    {
      "cell_type": "code",
      "source": [
        "clean_sentences = [clean_text(sentence) for sentence in sentences]\n"
      ],
      "metadata": {
        "id": "bmtRpRWbB9Zd"
      },
      "execution_count": 12,
      "outputs": []
    },
    {
      "cell_type": "code",
      "source": [
        "print(f\"Nombre de phrases : {len(clean_sentences)}\")\n",
        "print(clean_sentences[:5])"
      ],
      "metadata": {
        "colab": {
          "base_uri": "https://localhost:8080/"
        },
        "id": "K6RYzg5GB-67",
        "outputId": "64a968b4-176f-4ab9-eec2-6ec33519515f"
      },
      "execution_count": 13,
      "outputs": [
        {
          "output_type": "stream",
          "name": "stdout",
          "text": [
            "Nombre de phrases : 130\n",
            "['maria sharapova basically friends tennis players wta tour', 'russian player problems openly speaking recent interview said dont really hide feelings much', 'think everyone knows job', 'im courts im court playing im competitor want beat every single person whether theyre locker room across net', 'im one strike conversation weather know next minutes go try win tennis match']\n"
          ]
        }
      ]
    },
    {
      "cell_type": "code",
      "source": [
        "# Téléchargement et chargement des embeddings GloVe\n",
        "!wget -q https://nlp.stanford.edu/data/glove.6B.zip\n",
        "!unzip -q glove.6B.zip\n",
        "glove_path = \"glove.6B.100d.txt\"\n",
        "\n",
        "# Création d'un dictionnaire de mots et leurs vecteurs\n",
        "embeddings_index = {}\n",
        "with open(glove_path, \"r\", encoding=\"utf-8\") as f:\n",
        "    for line in f:\n",
        "        values = line.split()\n",
        "        word = values[0]\n",
        "        vector = np.asarray(values[1:], dtype=\"float32\")\n",
        "        embeddings_index[word] = vector\n",
        "\n",
        "print(f\"Nombre de mots chargés : {len(embeddings_index)}\")\n",
        "\n",
        "# Fonction pour vectoriser une phrase en moyenne des embeddings de ses mots\n",
        "def sentence_vector(sentence):\n",
        "    words = sentence.split()\n",
        "    word_vectors = [embeddings_index[word] for word in words if word in embeddings_index]\n",
        "    return np.mean(word_vectors, axis=0) if word_vectors else np.zeros(100)\n",
        "\n",
        "# Vectorisation des phrases\n",
        "sentence_vectors = np.array([sentence_vector(sentence) for sentence in clean_sentences])\n",
        "\n",
        "# Vérification\n",
        "print(f\"Taille de la matrice des phrases : {sentence_vectors.shape}\")\n"
      ],
      "metadata": {
        "colab": {
          "base_uri": "https://localhost:8080/"
        },
        "id": "yZgoeBZvCBp0",
        "outputId": "48dd405c-e2ae-43fb-bf8f-56093d37e706"
      },
      "execution_count": 14,
      "outputs": [
        {
          "output_type": "stream",
          "name": "stdout",
          "text": [
            "Nombre de mots chargés : 400000\n",
            "Taille de la matrice des phrases : (130, 100)\n"
          ]
        }
      ]
    },
    {
      "cell_type": "code",
      "source": [
        "from sklearn.metrics.pairwise import cosine_similarity\n",
        "\n",
        "\n",
        "similarity_matrix = cosine_similarity(sentence_vectors)\n",
        "\n",
        "\n",
        "graph = nx.from_numpy_array(similarity_matrix)\n",
        "\n",
        "\n",
        "print(f\"Nombre de nœuds : {graph.number_of_nodes()}, Nombre d'arêtes : {graph.number_of_edges()}\")\n"
      ],
      "metadata": {
        "colab": {
          "base_uri": "https://localhost:8080/"
        },
        "id": "skhulk8xCX1E",
        "outputId": "a9467dac-15af-4e31-c2c1-a31a5024f2b8"
      },
      "execution_count": 15,
      "outputs": [
        {
          "output_type": "stream",
          "name": "stdout",
          "text": [
            "Nombre de nœuds : 130, Nombre d'arêtes : 8385\n"
          ]
        }
      ]
    },
    {
      "cell_type": "code",
      "source": [
        "\n",
        "scores = nx.pagerank(graph)\n",
        "\n",
        "# Classement des phrases selon leur score\n",
        "ranked_sentences = sorted(((scores[i], s) for i, s in enumerate(sentences)), reverse=True)\n",
        "\n",
        "# Sélection des 5 phrases les plus importantes\n",
        "summary = \" \".join([ranked_sentences[i][1] for i in range(5)])\n",
        "\n",
        "\n",
        "print(\"Résumé généré :\")\n",
        "print(summary)\n"
      ],
      "metadata": {
        "colab": {
          "base_uri": "https://localhost:8080/"
        },
        "id": "aUo49V9xCg9e",
        "outputId": "2e9d7bf2-3605-429a-aac0-44fef9dff227"
      },
      "execution_count": 16,
      "outputs": [
        {
          "output_type": "stream",
          "name": "stdout",
          "text": [
            "Résumé généré :\n",
            "I was on a nice trajectorythen, Reid recalled.If I hadnt got sick, I think I could have started pushing towards the second week at the slams and then who knows. Duringa comeback attempt some five years later, Reid added Bernard Tomic and 2018 US Open Federer slayer John Millman to his list of career scalps. Major players feel that a big event in late November combined with one in January before the Australian Open will mean too much tennis and too little rest. So I'm not the one to strike up a conversation about the weather and know that in the next few minutes I have to go and try to win a tennis match. I just felt like it really kind of changed where people were a little bit, definitely in the '90s, a lot more quiet, into themselves, and then it started to become better. Meanwhile, Federer is hoping he can improve his service game as he hunts his ninth Swiss Indoors title this week. I felt like the best weeks that I had to get to know players when I was playing were the Fed Cup weeks or the Olympic weeks, not necessarily during the tournaments.\n"
          ]
        }
      ]
    }
  ]
}