{
 "cells": [
  {
   "cell_type": "code",
   "execution_count": null,
   "metadata": {},
   "outputs": [],
   "source": [
    "L'Importance de l'Analyse de Données dans le Monde Moderne\n",
    "1. Qu'est-ce que l'analyse de données ?\n",
    "L’analyse de données est le processus d’exploration, de transformation et d’interprétation de données brutes pour en extraire des informations utiles. Elle repose sur des techniques statistiques, des algorithmes et des outils informatiques comme Python et SQL. Son objectif est d’aider à la prise de décision en identifiant des tendances, des modèles et des relations dans les données.\n",
    "\n",
    "2. Pourquoi l’analyse des données est-elle essentielle aujourd’hui ?\n",
    "Dans un monde où la quantité de données explose (Big Data), l’analyse des données est devenue un levier stratégique pour les entreprises et organisations. Elle permet :\n",
    "✔ D’améliorer la prise de décision en s’appuyant sur des faits plutôt que sur des intuitions.\n",
    "✔ D’optimiser les performances grâce à l’identification des inefficacités et des opportunités.\n",
    "✔ D’anticiper les tendances en prédisant les comportements et évolutions futures.\n",
    "\n",
    "3. Trois domaines clés d’application de l’analyse de données\n",
    "1️⃣ Santé – L’analyse des données médicales aide à détecter des maladies plus rapidement, à personnaliser les traitements et à prévoir la propagation des épidémies. Par exemple, durant la pandémie de COVID-19, l’intelligence artificielle a permis de suivre la propagation du virus en temps réel.\n",
    "\n",
    "2️⃣ Commerce et marketing – Les entreprises utilisent l’analyse des données pour comprendre les habitudes des consommateurs et proposer des recommandations personnalisées. Par exemple, Amazon analyse l’historique d’achat des clients pour leur suggérer des produits pertinents.\n",
    "\n",
    "3️⃣ Finance – Les banques et les assurances exploitent les données pour détecter les fraudes et évaluer les risques de crédit. Par exemple, les algorithmes de machine learning analysent les transactions bancaires afin de signaler des comportements suspects.\n",
    "\n",
    "Conclusio\n",
    "L’analyse des données est devenue incontournable dans de nombreux secteurs. Elle permet d’exploiter la puissance des données pour prendre des décisions plus intelligentes, optimiser les ressources et anticiper l’avenir. Son importance ne cessera de croître avec l’essor de l’intelligence artificielle et des nouvelles technologies."
   ]
  },
  {
   "cell_type": "code",
   "execution_count": null,
   "metadata": {},
   "outputs": [
    {
     "name": "stdout",
     "output_type": "stream",
     "text": [
      "Colonnes qualitatives : Index(['Industry', 'Ethnicity', 'Citizen'], dtype='object')\n",
      "Colonnes quantitatives : Index(['Gender', 'Age', 'Debt', 'Married', 'BankCustomer', 'YearsEmployed',\n",
      "       'PriorDefault', 'Employed', 'CreditScore', 'DriversLicense', 'ZipCode',\n",
      "       'Income', 'Approved'],\n",
      "      dtype='object')\n"
     ]
    }
   ],
   "source": [
    "import pandas as pd\n",
    "df = pd.read_csv(\"clean_dataset.csv\")\n",
    "\n",
    "# # afficher les 5 premières lignes\n",
    "# print(df.head())\n",
    "\n",
    "# # Obtenir des informations générales sur les données\n",
    "# print(df.info())\n",
    "\n",
    "# # Obtenir les statistiques descriptives\n",
    "# print(df.describe())\n",
    "\n",
    "# print(df.shape)\n",
    "\n",
    "# print(df.info)\n",
    "\n",
    "# print(df.isnull().sum())\n",
    "\n",
    "# print(df.describe())\n",
    "\n",
    "# Séparer les colonnes qualitatives et quantitatives\n",
    "qualitative_columns = df.select_dtypes(include=['object']).columns\n",
    "quantitative_columns = df.select_dtypes(include=['int64', 'float64']).columns\n",
    "\n",
    "print(\"Colonnes qualitatives :\", qualitative_columns)\n",
    "print(\"Colonnes quantitatives :\", quantitative_columns)\n",
    "\n"
   ]
  },
  {
   "cell_type": "code",
   "execution_count": null,
   "metadata": {},
   "outputs": [],
   "source": [
    "df_iris = pd.read_csv(\"iris.csv\")\n",
    "\n",
    "# Charger le dataset Iris\n",
    "df_iris = pd.read_csv('iris.csv')\n",
    "\n",
    "# Afficher un aperçu\n",
    "print(df_iris.head())\n",
    "\n",
    "# Colonnes qualitatives et quantitatives\n",
    "qualitative_columns = df_iris.select_dtypes(include=['object']).columns\n",
    "quantitative_columns = df_iris.select_dtypes(include=['int64', 'float64']).columns\n",
    "\n",
    "print(\"Colonnes qualitatives :\", qualitative_columns)\n",
    "print(\"Colonnes quantitatives :\", quantitative_columns)\n"
   ]
  },
  {
   "cell_type": "code",
   "execution_count": 26,
   "metadata": {},
   "outputs": [
    {
     "ename": "KeyError",
     "evalue": "'Sleep Hours'",
     "output_type": "error",
     "traceback": [
      "\u001b[1;31m---------------------------------------------------------------------------\u001b[0m",
      "\u001b[1;31mKeyError\u001b[0m                                  Traceback (most recent call last)",
      "File \u001b[1;32mc:\\Users\\Amin\\AppData\\Local\\Programs\\Python\\Python313\\Lib\\site-packages\\pandas\\core\\indexes\\base.py:3805\u001b[0m, in \u001b[0;36mIndex.get_loc\u001b[1;34m(self, key)\u001b[0m\n\u001b[0;32m   3804\u001b[0m \u001b[38;5;28;01mtry\u001b[39;00m:\n\u001b[1;32m-> 3805\u001b[0m     \u001b[38;5;28;01mreturn\u001b[39;00m \u001b[38;5;28;43mself\u001b[39;49m\u001b[38;5;241;43m.\u001b[39;49m\u001b[43m_engine\u001b[49m\u001b[38;5;241;43m.\u001b[39;49m\u001b[43mget_loc\u001b[49m\u001b[43m(\u001b[49m\u001b[43mcasted_key\u001b[49m\u001b[43m)\u001b[49m\n\u001b[0;32m   3806\u001b[0m \u001b[38;5;28;01mexcept\u001b[39;00m \u001b[38;5;167;01mKeyError\u001b[39;00m \u001b[38;5;28;01mas\u001b[39;00m err:\n",
      "File \u001b[1;32mindex.pyx:167\u001b[0m, in \u001b[0;36mpandas._libs.index.IndexEngine.get_loc\u001b[1;34m()\u001b[0m\n",
      "File \u001b[1;32mindex.pyx:196\u001b[0m, in \u001b[0;36mpandas._libs.index.IndexEngine.get_loc\u001b[1;34m()\u001b[0m\n",
      "File \u001b[1;32mpandas\\\\_libs\\\\hashtable_class_helper.pxi:7081\u001b[0m, in \u001b[0;36mpandas._libs.hashtable.PyObjectHashTable.get_item\u001b[1;34m()\u001b[0m\n",
      "File \u001b[1;32mpandas\\\\_libs\\\\hashtable_class_helper.pxi:7089\u001b[0m, in \u001b[0;36mpandas._libs.hashtable.PyObjectHashTable.get_item\u001b[1;34m()\u001b[0m\n",
      "\u001b[1;31mKeyError\u001b[0m: 'Sleep Hours'",
      "\nThe above exception was the direct cause of the following exception:\n",
      "\u001b[1;31mKeyError\u001b[0m                                  Traceback (most recent call last)",
      "Cell \u001b[1;32mIn[26], line 4\u001b[0m\n\u001b[0;32m      1\u001b[0m \u001b[38;5;66;03m# Calculer la moyenne, la médiane et le mode\u001b[39;00m\n\u001b[0;32m      2\u001b[0m colonne \u001b[38;5;241m=\u001b[39m \u001b[38;5;124m'\u001b[39m\u001b[38;5;124mSleep Hours\u001b[39m\u001b[38;5;124m'\u001b[39m  \u001b[38;5;66;03m# Remplace par le nom de ta colonne\u001b[39;00m\n\u001b[1;32m----> 4\u001b[0m moyenne \u001b[38;5;241m=\u001b[39m \u001b[43mdf\u001b[49m\u001b[43m[\u001b[49m\u001b[43mcolonne\u001b[49m\u001b[43m]\u001b[49m\u001b[38;5;241m.\u001b[39mmean()\n\u001b[0;32m      5\u001b[0m mediane \u001b[38;5;241m=\u001b[39m df[colonne]\u001b[38;5;241m.\u001b[39mmedian()\n\u001b[0;32m      6\u001b[0m mode \u001b[38;5;241m=\u001b[39m df[colonne]\u001b[38;5;241m.\u001b[39mmode()[\u001b[38;5;241m0\u001b[39m]  \u001b[38;5;66;03m# Mode peut contenir plusieurs valeurs, on prend la première\u001b[39;00m\n",
      "File \u001b[1;32mc:\\Users\\Amin\\AppData\\Local\\Programs\\Python\\Python313\\Lib\\site-packages\\pandas\\core\\frame.py:4102\u001b[0m, in \u001b[0;36mDataFrame.__getitem__\u001b[1;34m(self, key)\u001b[0m\n\u001b[0;32m   4100\u001b[0m \u001b[38;5;28;01mif\u001b[39;00m \u001b[38;5;28mself\u001b[39m\u001b[38;5;241m.\u001b[39mcolumns\u001b[38;5;241m.\u001b[39mnlevels \u001b[38;5;241m>\u001b[39m \u001b[38;5;241m1\u001b[39m:\n\u001b[0;32m   4101\u001b[0m     \u001b[38;5;28;01mreturn\u001b[39;00m \u001b[38;5;28mself\u001b[39m\u001b[38;5;241m.\u001b[39m_getitem_multilevel(key)\n\u001b[1;32m-> 4102\u001b[0m indexer \u001b[38;5;241m=\u001b[39m \u001b[38;5;28;43mself\u001b[39;49m\u001b[38;5;241;43m.\u001b[39;49m\u001b[43mcolumns\u001b[49m\u001b[38;5;241;43m.\u001b[39;49m\u001b[43mget_loc\u001b[49m\u001b[43m(\u001b[49m\u001b[43mkey\u001b[49m\u001b[43m)\u001b[49m\n\u001b[0;32m   4103\u001b[0m \u001b[38;5;28;01mif\u001b[39;00m is_integer(indexer):\n\u001b[0;32m   4104\u001b[0m     indexer \u001b[38;5;241m=\u001b[39m [indexer]\n",
      "File \u001b[1;32mc:\\Users\\Amin\\AppData\\Local\\Programs\\Python\\Python313\\Lib\\site-packages\\pandas\\core\\indexes\\base.py:3812\u001b[0m, in \u001b[0;36mIndex.get_loc\u001b[1;34m(self, key)\u001b[0m\n\u001b[0;32m   3807\u001b[0m     \u001b[38;5;28;01mif\u001b[39;00m \u001b[38;5;28misinstance\u001b[39m(casted_key, \u001b[38;5;28mslice\u001b[39m) \u001b[38;5;129;01mor\u001b[39;00m (\n\u001b[0;32m   3808\u001b[0m         \u001b[38;5;28misinstance\u001b[39m(casted_key, abc\u001b[38;5;241m.\u001b[39mIterable)\n\u001b[0;32m   3809\u001b[0m         \u001b[38;5;129;01mand\u001b[39;00m \u001b[38;5;28many\u001b[39m(\u001b[38;5;28misinstance\u001b[39m(x, \u001b[38;5;28mslice\u001b[39m) \u001b[38;5;28;01mfor\u001b[39;00m x \u001b[38;5;129;01min\u001b[39;00m casted_key)\n\u001b[0;32m   3810\u001b[0m     ):\n\u001b[0;32m   3811\u001b[0m         \u001b[38;5;28;01mraise\u001b[39;00m InvalidIndexError(key)\n\u001b[1;32m-> 3812\u001b[0m     \u001b[38;5;28;01mraise\u001b[39;00m \u001b[38;5;167;01mKeyError\u001b[39;00m(key) \u001b[38;5;28;01mfrom\u001b[39;00m\u001b[38;5;250m \u001b[39m\u001b[38;5;21;01merr\u001b[39;00m\n\u001b[0;32m   3813\u001b[0m \u001b[38;5;28;01mexcept\u001b[39;00m \u001b[38;5;167;01mTypeError\u001b[39;00m:\n\u001b[0;32m   3814\u001b[0m     \u001b[38;5;66;03m# If we have a listlike key, _check_indexing_error will raise\u001b[39;00m\n\u001b[0;32m   3815\u001b[0m     \u001b[38;5;66;03m#  InvalidIndexError. Otherwise we fall through and re-raise\u001b[39;00m\n\u001b[0;32m   3816\u001b[0m     \u001b[38;5;66;03m#  the TypeError.\u001b[39;00m\n\u001b[0;32m   3817\u001b[0m     \u001b[38;5;28mself\u001b[39m\u001b[38;5;241m.\u001b[39m_check_indexing_error(key)\n",
      "\u001b[1;31mKeyError\u001b[0m: 'Sleep Hours'"
     ]
    }
   ],
   "source": [
    "# Calculer la moyenne, la médiane et le mode\n",
    "colonne = 'Sleep Hours'  # Remplace par le nom de ta colonne\n",
    "\n",
    "moyenne = df[colonne].mean()\n",
    "mediane = df[colonne].median()\n",
    "mode = df[colonne].mode()[0]  # Mode peut contenir plusieurs valeurs, on prend la première\n",
    "\n",
    "print(f\"Moyenne : {moyenne}, Médiane : {mediane}, Mode : {mode}\")\n"
   ]
  }
 ],
 "metadata": {
  "kernelspec": {
   "display_name": "Python 3",
   "language": "python",
   "name": "python3"
  },
  "language_info": {
   "codemirror_mode": {
    "name": "ipython",
    "version": 3
   },
   "file_extension": ".py",
   "mimetype": "text/x-python",
   "name": "python",
   "nbconvert_exporter": "python",
   "pygments_lexer": "ipython3",
   "version": "3.13.1"
  }
 },
 "nbformat": 4,
 "nbformat_minor": 2
}
