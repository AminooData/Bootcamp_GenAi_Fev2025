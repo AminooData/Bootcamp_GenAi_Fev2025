{
 "cells": [
  {
   "cell_type": "code",
   "execution_count": 1,
   "metadata": {},
   "outputs": [
    {
     "name": "stdout",
     "output_type": "stream",
     "text": [
      "[0 1 2 3 4 5 6 7 8 9]\n"
     ]
    }
   ],
   "source": [
    "import numpy as np\n",
    "\n",
    "# Création du tableau 1D\n",
    "array1 = np.arange(10)\n",
    "\n",
    "# Affichage du tableau\n",
    "print(array1)\n"
   ]
  },
  {
   "cell_type": "code",
   "execution_count": 2,
   "metadata": {},
   "outputs": [
    {
     "name": "stdout",
     "output_type": "stream",
     "text": [
      "[3 2 0 1 2]\n"
     ]
    }
   ],
   "source": [
    "# Liste de nombres décimaux\n",
    "liste = [3.14, 2.17, 0, 1, 2]\n",
    "\n",
    "# Conversion en tableau NumPy d'entiers\n",
    "array2 = np.array(liste, dtype=int)\n",
    "\n",
    "# Affichage du tableau converti\n",
    "print(array2)\n"
   ]
  },
  {
   "cell_type": "code",
   "execution_count": 3,
   "metadata": {},
   "outputs": [
    {
     "name": "stdout",
     "output_type": "stream",
     "text": [
      "[[1 2 3]\n",
      " [4 5 6]\n",
      " [7 8 9]]\n"
     ]
    }
   ],
   "source": [
    "# Création du tableau 3x3\n",
    "array3 = np.arange(1, 10).reshape(3, 3)\n",
    "\n",
    "# Affichage du tableau\n",
    "print(array3)\n"
   ]
  },
  {
   "cell_type": "code",
   "execution_count": null,
   "metadata": {},
   "outputs": [],
   "source": [
    "# Création d'un tableau 4x5 avec des valeurs aléatoires entre 0 et 1\n",
    "array4 = np.random.rand(4, 5)\n",
    "\n",
    "# Affichage du tableau\n",
    "print(array4)\n"
   ]
  },
  {
   "cell_type": "code",
   "execution_count": 4,
   "metadata": {},
   "outputs": [
    {
     "name": "stdout",
     "output_type": "stream",
     "text": [
      "[20 21 22 23 24]\n"
     ]
    }
   ],
   "source": [
    "# Création d'un tableau 2D\n",
    "array5 = np.array([[21, 22, 23, 22, 22], \n",
    "                   [20, 21, 22, 23, 24], \n",
    "                   [21, 22, 23, 22, 22]])\n",
    "\n",
    "# Sélection de la 2e ligne (index 1)\n",
    "row2 = array5[1]\n",
    "\n",
    "# Affichage de la ligne sélectionnée\n",
    "print(row2)\n"
   ]
  },
  {
   "cell_type": "code",
   "execution_count": 5,
   "metadata": {},
   "outputs": [
    {
     "name": "stdout",
     "output_type": "stream",
     "text": [
      "[9 8 7 6 5 4 3 2 1 0]\n"
     ]
    }
   ],
   "source": [
    "# Création du tableau 1D\n",
    "array6 = np.arange(10)\n",
    "\n",
    "# Inversion du tableau\n",
    "reversed_array = array6[::-1]\n",
    "\n",
    "# Affichage du tableau inversé\n",
    "print(reversed_array)\n"
   ]
  },
  {
   "cell_type": "code",
   "execution_count": 6,
   "metadata": {},
   "outputs": [
    {
     "name": "stdout",
     "output_type": "stream",
     "text": [
      "[[1. 0. 0. 0.]\n",
      " [0. 1. 0. 0.]\n",
      " [0. 0. 1. 0.]\n",
      " [0. 0. 0. 1.]]\n"
     ]
    }
   ],
   "source": [
    "# Création d'une matrice identité 4x4\n",
    "identity_matrix = np.eye(4)\n",
    "\n",
    "# Affichage de la matrice\n",
    "print(identity_matrix)\n"
   ]
  },
  {
   "cell_type": "code",
   "execution_count": 9,
   "metadata": {},
   "outputs": [
    {
     "name": "stdout",
     "output_type": "stream",
     "text": [
      "Somme : 45, Moyenne : 4.5\n"
     ]
    }
   ],
   "source": [
    "# Création d'un tableau\n",
    "array8 = np.arange(10)\n",
    "\n",
    "# Calcul de la somme et de la moyenne\n",
    "sum_val = np.sum(array8)\n",
    "avg_val = np.mean(array8)\n",
    "\n",
    "# Affichage des résultats\n",
    "print(f\"Somme : {sum_val}, Moyenne : {avg_val}\")\n"
   ]
  },
  {
   "cell_type": "code",
   "execution_count": 10,
   "metadata": {},
   "outputs": [
    {
     "name": "stdout",
     "output_type": "stream",
     "text": [
      "[[ 1  2  3  4  5]\n",
      " [ 6  7  8  9 10]\n",
      " [11 12 13 14 15]\n",
      " [16 17 18 19 20]]\n"
     ]
    }
   ],
   "source": [
    "# Création du tableau 1D\n",
    "array9 = np.arange(1, 21)\n",
    "\n",
    "# Reshape en 4x5\n",
    "reshaped_array = array9.reshape(4, 5)\n",
    "\n",
    "# Affichage du tableau remodifié\n",
    "print(reshaped_array)\n"
   ]
  },
  {
   "cell_type": "code",
   "execution_count": 11,
   "metadata": {},
   "outputs": [
    {
     "name": "stdout",
     "output_type": "stream",
     "text": [
      "[1 3 5 7 9]\n"
     ]
    }
   ],
   "source": [
    "# Création du tableau 1D\n",
    "array10 = np.arange(10)\n",
    "\n",
    "# Filtrage des nombres impairs\n",
    "odd_numbers = array10[array10 % 2 == 1]\n",
    "\n",
    "# Affichage des nombres impairs\n",
    "print(odd_numbers)\n"
   ]
  }
 ],
 "metadata": {
  "kernelspec": {
   "display_name": "Python 3",
   "language": "python",
   "name": "python3"
  },
  "language_info": {
   "codemirror_mode": {
    "name": "ipython",
    "version": 3
   },
   "file_extension": ".py",
   "mimetype": "text/x-python",
   "name": "python",
   "nbconvert_exporter": "python",
   "pygments_lexer": "ipython3",
   "version": "3.13.1"
  }
 },
 "nbformat": 4,
 "nbformat_minor": 2
}
