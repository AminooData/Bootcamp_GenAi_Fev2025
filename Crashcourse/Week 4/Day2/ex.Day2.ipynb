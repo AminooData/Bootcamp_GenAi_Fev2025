{
 "cells": [
  {
   "cell_type": "code",
   "execution_count": 1,
   "metadata": {},
   "outputs": [
    {
     "name": "stdout",
     "output_type": "stream",
     "text": [
      "Déterminant :  47.999999999999986\n",
      "Inverse de la matrice :\n",
      "[[ 0.0625     -0.25        0.1875    ]\n",
      " [ 0.60416667  0.58333333 -0.52083333]\n",
      " [-0.45833333 -0.16666667  0.29166667]]\n"
     ]
    }
   ],
   "source": [
    "import numpy as np\n",
    "\n",
    "\n",
    "matrice = np.array([[4, 2, 1],\n",
    "                    [3, 5, 7],\n",
    "                    [8, 6, 9]])\n",
    "\n",
    "\n",
    "determinant = np.linalg.det(matrice)\n",
    "print(\"Déterminant : \", determinant)\n",
    "\n",
    "\n",
    "if determinant != 0:\n",
    "    inverse = np.linalg.inv(matrice)\n",
    "    print(\"Inverse de la matrice :\")\n",
    "    print(inverse)\n",
    "else:\n",
    "    print(\"Cette matrice na pas d'inverse\")\n"
   ]
  },
  {
   "cell_type": "code",
   "execution_count": 2,
   "metadata": {},
   "outputs": [
    {
     "name": "stdout",
     "output_type": "stream",
     "text": [
      "Moyenne :  48.69363551769854\n",
      "Médiane :  50.442582643196545\n",
      "Ecart-type :  30.08025740434385\n"
     ]
    }
   ],
   "source": [
    "import numpy as np\n",
    "\n",
    "donnees = np.random.random(50) * 100  \n",
    "\n",
    "\n",
    "moyenne = np.mean(donnees)\n",
    "print(\"Moyenne : \", moyenne)\n",
    "\n",
    "mediane = np.median(donnees)\n",
    "print(\"Médiane : \", mediane)\n",
    "\n",
    "\n",
    "ecart_type = np.std(donnees)\n",
    "print(\"Ecart-type : \", ecart_type)\n"
   ]
  },
  {
   "cell_type": "code",
   "execution_count": 3,
   "metadata": {},
   "outputs": [
    {
     "name": "stdout",
     "output_type": "stream",
     "text": [
      "['2023-01-01' '2023-01-02' '2023-01-03' '2023-01-04' '2023-01-05'\n",
      " '2023-01-06' '2023-01-07' '2023-01-08' '2023-01-09' '2023-01-10'\n",
      " '2023-01-11' '2023-01-12' '2023-01-13' '2023-01-14' '2023-01-15'\n",
      " '2023-01-16' '2023-01-17' '2023-01-18' '2023-01-19' '2023-01-20'\n",
      " '2023-01-21' '2023-01-22' '2023-01-23' '2023-01-24' '2023-01-25'\n",
      " '2023-01-26' '2023-01-27' '2023-01-28' '2023-01-29' '2023-01-30'\n",
      " '2023-01-31']\n"
     ]
    }
   ],
   "source": [
    "import numpy as np\n",
    "\n",
    "\n",
    "dates = np.arange('2023-01-01', '2023-02-01', dtype='datetime64[D]')\n",
    "print(dates)\n"
   ]
  },
  {
   "cell_type": "code",
   "execution_count": 4,
   "metadata": {},
   "outputs": [
    {
     "name": "stdout",
     "output_type": "stream",
     "text": [
      "DataFrame :\n",
      "          A         B         C         D         E\n",
      "0  0.748135  0.075857  0.384928  0.281082  0.504817\n",
      "1  0.760476  0.439241  0.012770  0.363963  0.873495\n",
      "2  0.031028  0.696533  0.245370  0.310695  0.850402\n",
      "3  0.984589  0.036671  0.275511  0.399837  0.098442\n",
      "4  0.810437  0.703459  0.463781  0.251104  0.230048\n",
      "\n",
      "Données où la colonne A est > 0.5 :\n",
      "          A         B         C         D         E\n",
      "0  0.748135  0.075857  0.384928  0.281082  0.504817\n",
      "1  0.760476  0.439241  0.012770  0.363963  0.873495\n",
      "3  0.984589  0.036671  0.275511  0.399837  0.098442\n",
      "4  0.810437  0.703459  0.463781  0.251104  0.230048\n",
      "\n",
      "Somme de chaque colonne :\n",
      "A    3.334666\n",
      "B    1.951761\n",
      "C    1.382361\n",
      "D    1.606681\n",
      "E    2.557204\n",
      "dtype: float64\n",
      "\n",
      "Moyenne de chaque colonne :\n",
      "A    0.666933\n",
      "B    0.390352\n",
      "C    0.276472\n",
      "D    0.321336\n",
      "E    0.511441\n",
      "dtype: float64\n"
     ]
    }
   ],
   "source": [
    "import pandas as pd\n",
    "import numpy as np\n",
    "\n",
    "\n",
    "data = np.random.rand(5, 5)\n",
    "df = pd.DataFrame(data, columns=['A', 'B', 'C', 'D', 'E'])\n",
    "print(\"DataFrame :\")\n",
    "print(df)\n",
    "\n",
    "\n",
    "selected_data = df[df['A'] > 0.5]\n",
    "print(\"\\nDonnées où la colonne A est > 0.5 :\")\n",
    "print(selected_data)\n",
    "\n",
    "\n",
    "somme = df.sum()\n",
    "moyenne = df.mean()\n",
    "print(\"\\nSomme de chaque colonne :\")\n",
    "print(somme)\n",
    "print(\"\\nMoyenne de chaque colonne :\")\n",
    "print(moyenne)\n"
   ]
  },
  {
   "cell_type": "code",
   "execution_count": null,
   "metadata": {},
   "outputs": [],
   "source": [
    "import numpy as np\n",
    "import matplotlib.pyplot as plt\n",
    "\n",
    "\n",
    "image = np.random.rand(5, 5)\n",
    "\n",
    "\n",
    "plt.imshow(image, cmap='gray', interpolation='nearest')\n",
    "plt.title(\"Image en niveaux de gris 5x5\")\n",
    "plt.show()\n"
   ]
  },
  {
   "cell_type": "code",
   "execution_count": 5,
   "metadata": {},
   "outputs": [
    {
     "name": "stdout",
     "output_type": "stream",
     "text": [
      "Moyenne av la formation : 50.74383640088512\n",
      "Moyenne ap la formation : 56.382460780253304\n",
      "L'efficaciter du programme est positive.\n"
     ]
    }
   ],
   "source": [
    "import numpy as np\n",
    "\n",
    "avant = np.random.normal(loc=50, scale=10, size=30)  \n",
    "apres = avant + np.random.normal(loc=5, scale=3, size=30) \n",
    "\n",
    "\n",
    "moyenne_avant = np.mean(avant)\n",
    "moyenne_apres = np.mean(apres)\n",
    "\n",
    "print(f\"Moyenne av la formation : {moyenne_avant}\")\n",
    "print(f\"Moyenne ap la formation : {moyenne_apres}\")\n",
    "\n",
    "if moyenne_apres > moyenne_avant:\n",
    "    print(\"L'efficaciter du programme est positive.\")\n",
    "else:\n",
    "    print(\"Le programme n'a pas d'effet significatif.\")\n"
   ]
  },
  {
   "cell_type": "code",
   "execution_count": 6,
   "metadata": {},
   "outputs": [
    {
     "name": "stdout",
     "output_type": "stream",
     "text": [
      "Moyenne avant : 50.69975121481804\n",
      "Moyenne après : 56.30507041659556\n",
      "➡️ Le programme semble avoir amélioré la productivité.\n"
     ]
    }
   ],
   "source": [
    "import numpy as np\n",
    "\n",
    "\n",
    "avant = np.random.normal(loc=50, scale=10, size=30)\n",
    "\n",
    "\n",
    "apres = avant + np.random.normal(loc=5, scale=3, size=30)\n",
    "\n",
    "\n",
    "moyenne_avant = np.mean(avant)\n",
    "moyenne_apres = np.mean(apres)\n",
    "\n",
    "print(f\"Moyenne avant : {moyenne_avant}\")\n",
    "print(f\"Moyenne après : {moyenne_apres}\")\n",
    "\n",
    "\n",
    "if moyenne_apres > moyenne_avant:\n",
    "    print(\"➡️ Le programme semble avoir amélioré la productivité.\")\n",
    "else:\n",
    "    print(\"➡️ Aucun effet notable du programme.\")\n"
   ]
  },
  {
   "cell_type": "code",
   "execution_count": null,
   "metadata": {},
   "outputs": [],
   "source": [
    "import numpy as np\n",
    "\n",
    "\n",
    "tableau1 = np.random.randint(0, 100, 10)\n",
    "tableau2 = np.random.randint(0, 100, 10)\n",
    "\n",
    "\n",
    "comparaison = tableau1 > tableau2\n",
    "\n",
    "print(\"Tableau 1 :\", tableau1)\n",
    "print(\"Tableau 2 :\", tableau2)\n",
    "print(\"Tableau booléen :\", comparaison)\n"
   ]
  },
  {
   "cell_type": "code",
   "execution_count": null,
   "metadata": {},
   "outputs": [],
   "source": [
    "import numpy as np\n",
    "\n",
    "\n",
    "dates = np.arange('2023-01-01', '2024-01-01', dtype='datetime64[D]')\n",
    "\n",
    "\n",
    "jan_mars = dates[:90]   \n",
    "avr_juin = dates[90:181]  \n",
    "juil_sep = dates[181:273]  \n",
    "oct_dec = dates[273:]   \n",
    "\n",
    "print(\"Janvier à Mars :\", jan_mars)\n",
    "print(\"Avril à Juin :\", avr_juin)\n",
    "print(\"Juillet à Septembre :\", juil_sep)\n",
    "print(\"Octobre à Décembre :\", oct_dec)\n"
   ]
  },
  {
   "cell_type": "code",
   "execution_count": null,
   "metadata": {},
   "outputs": [],
   "source": [
    "import numpy as np\n",
    "import pandas as pd\n",
    "\n",
    "\n",
    "tableau_numpy = np.random.rand(5, 3)\n",
    "\n",
    "\n",
    "df = pd.DataFrame(tableau_numpy, columns=['A', 'B', 'C'])\n",
    "print(\"DataFrame Pandas :\")\n",
    "print(df)\n",
    "\n",
    "\n",
    "tableau_numpy_2 = df.to_numpy()\n",
    "print(\"\\nTableau NumPy après conversion :\")\n",
    "print(tableau_numpy_2)\n"
   ]
  },
  {
   "cell_type": "code",
   "execution_count": null,
   "metadata": {},
   "outputs": [],
   "source": [
    "import numpy as np\n",
    "import matplotlib.pyplot as plt\n",
    "\n",
    "\n",
    "x = np.arange(10)\n",
    "y = np.random.randint(0, 100, 10)\n",
    "\n",
    "\n",
    "plt.plot(x, y, marker='o', linestyle='-', color='b', label=\"Données aléatoires\")\n",
    "\n",
    "\n",
    "plt.title(\"Graphique linéaire simple\")\n",
    "plt.xlabel(\"Index\")\n",
    "plt.ylabel(\"Valeurs\")\n",
    "plt.legend()\n",
    "\n",
    "\n",
    "plt.show()\n"
   ]
  }
 ],
 "metadata": {
  "kernelspec": {
   "display_name": "Python 3",
   "language": "python",
   "name": "python3"
  },
  "language_info": {
   "codemirror_mode": {
    "name": "ipython",
    "version": 3
   },
   "file_extension": ".py",
   "mimetype": "text/x-python",
   "name": "python",
   "nbconvert_exporter": "python",
   "pygments_lexer": "ipython3",
   "version": "3.13.1"
  }
 },
 "nbformat": 4,
 "nbformat_minor": 2
}
