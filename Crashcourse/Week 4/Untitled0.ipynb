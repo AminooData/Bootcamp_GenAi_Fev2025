{
  "nbformat": 4,
  "nbformat_minor": 0,
  "metadata": {
    "colab": {
      "provenance": [],
      "toc_visible": true
    },
    "kernelspec": {
      "name": "python3",
      "display_name": "Python 3"
    },
    "language_info": {
      "name": "python"
    }
  },
  "cells": [
    {
      "cell_type": "code",
      "source": [
        "# Téléchargez le fichier zip\n",
        "!wget https://github.com/devtlv/Datasets-GEN-AI-Bootcamp/raw/refs/heads/main/Week%206/W6D5/Dogs%20vs%20Cats.zip\n",
        "# Décompressez le fichier zip avec le bon nom\n",
        "import zipfile\n",
        "with zipfile.ZipFile('Dogs vs Cats.zip.1', 'r') as zip_ref:\n",
        "    zip_ref.extractall('/content/PetImages')\n",
        "\n",
        "# Vérifiez les fichiers extraits\n",
        "import os\n",
        "os.listdir('/content/PetImages')\n"
      ],
      "metadata": {
        "colab": {
          "base_uri": "https://localhost:8080/"
        },
        "id": "4lMqZsI6QLqN",
        "outputId": "08c09b13-8b56-44cc-9686-a13329f4eb73"
      },
      "execution_count": 4,
      "outputs": [
        {
          "output_type": "stream",
          "name": "stdout",
          "text": [
            "--2025-03-07 11:05:32--  https://github.com/devtlv/Datasets-GEN-AI-Bootcamp/raw/refs/heads/main/Week%206/W6D5/Dogs%20vs%20Cats.zip\n",
            "Resolving github.com (github.com)... 140.82.113.4\n",
            "Connecting to github.com (github.com)|140.82.113.4|:443... connected.\n",
            "HTTP request sent, awaiting response... 302 Found\n",
            "Location: https://media.githubusercontent.com/media/devtlv/Datasets-GEN-AI-Bootcamp/refs/heads/main/Week%206/W6D5/Dogs%20vs%20Cats.zip [following]\n",
            "--2025-03-07 11:05:32--  https://media.githubusercontent.com/media/devtlv/Datasets-GEN-AI-Bootcamp/refs/heads/main/Week%206/W6D5/Dogs%20vs%20Cats.zip\n",
            "Resolving media.githubusercontent.com (media.githubusercontent.com)... 185.199.108.133, 185.199.109.133, 185.199.111.133, ...\n",
            "Connecting to media.githubusercontent.com (media.githubusercontent.com)|185.199.108.133|:443... connected.\n",
            "HTTP request sent, awaiting response... 200 OK\n",
            "Length: 856265363 (817M) [application/zip]\n",
            "Saving to: ‘Dogs vs Cats.zip.2’\n",
            "\n",
            "Dogs vs Cats.zip.2  100%[===================>] 816.60M  38.9MB/s    in 12s     \n",
            "\n",
            "2025-03-07 11:06:27 (70.7 MB/s) - ‘Dogs vs Cats.zip.2’ saved [856265363/856265363]\n",
            "\n"
          ]
        },
        {
          "output_type": "execute_result",
          "data": {
            "text/plain": [
              "['train', 'test']"
            ]
          },
          "metadata": {},
          "execution_count": 4
        }
      ]
    },
    {
      "cell_type": "code",
      "source": [
        "import os\n",
        "import zipfile\n",
        "import shutil\n",
        "from sklearn.model_selection import train_test_split\n",
        "\n",
        "# Définir les répertoires\n",
        "base_dir = '/content/PetImages'\n",
        "train_dir = '/content/train'\n",
        "validation_dir = '/content/validation'\n",
        "\n",
        "train_cats_dir = os.path.join(train_dir, 'cats')\n",
        "train_dogs_dir = os.path.join(train_dir, 'dogs')\n",
        "validation_cats_dir = os.path.join(validation_dir, 'cats')\n",
        "validation_dogs_dir = os.path.join(validation_dir, 'dogs')\n",
        "\n",
        "# Créez les répertoires si ils n'existent pas\n",
        "for directory in [train_cats_dir, train_dogs_dir, validation_cats_dir, validation_dogs_dir]:\n",
        "    os.makedirs(directory, exist_ok=True)\n",
        "\n",
        "# Fonction pour diviser les images en sous-ensembles d'entraînement et de validation\n",
        "def split_images(src_dir, train_dir, validation_dir, test_size=0.2):\n",
        "    # Liste tous les fichiers dans le répertoire source\n",
        "    all_files = os.listdir(src_dir)\n",
        "    # Divise les fichiers en ensembles d'entraînement et de validation\n",
        "    train_files, val_files = train_test_split(all_files, test_size=test_size)\n",
        "\n",
        "    # Déplace les fichiers dans les répertoires d'entraînement et de validation\n",
        "    for file in train_files:\n",
        "        shutil.move(os.path.join(src_dir, file), os.path.join(train_dir, file))\n",
        "\n",
        "    for file in val_files:\n",
        "        shutil.move(os.path.join(src_dir, file), os.path.join(validation_dir, file))\n",
        "\n",
        "# Décompresser le fichier zip\n",
        "with zipfile.ZipFile('Dogs vs Cats.zip.1', 'r') as zip_ref:\n",
        "    zip_ref.extractall(base_dir)\n",
        "\n",
        "# Vérifier les fichiers extraits\n",
        "print(\"Fichiers extraits dans le répertoire :\")\n",
        "print(os.listdir(base_dir))  # Affiche la structure du dossier\n",
        "\n",
        "# Diviser les images dans les sous-répertoires appropriés (si 'cats' et 'dogs' existent)\n",
        "if 'cats' in os.listdir(base_dir) and 'dogs' in os.listdir(base_dir):\n",
        "    split_images(os.path.join(base_dir, 'cats'), train_cats_dir, validation_cats_dir)\n",
        "    split_images(os.path.join(base_dir, 'dogs'), train_dogs_dir, validation_dogs_dir)\n",
        "else:\n",
        "    print(\"Les répertoires 'cats' et 'dogs' n'ont pas été trouvés dans le fichier extrait.\")\n",
        "\n",
        "# Vérification de la structure des répertoires après déplacement\n",
        "print(\"Répertoires d'entraînement :\")\n",
        "print(f\"Chats : {os.listdir(train_cats_dir)}\")\n",
        "print(f\"Chiens : {os.listdir(train_dogs_dir)}\")\n",
        "\n",
        "print(\"Répertoires de validation :\")\n",
        "print(f\"Chats : {os.listdir(validation_cats_dir)}\")\n",
        "print(f\"Chiens : {os.listdir(validation_dogs_dir)}\")\n",
        "\n",
        "# Initialisation de l'image DataGenerator pour l'augmentation des images\n",
        "from tensorflow.keras.preprocessing.image import ImageDataGenerator\n",
        "\n",
        "IMG_HEIGHT = 150\n",
        "IMG_WIDTH = 150\n",
        "BATCH_SIZE = 32\n",
        "\n",
        "# Générateur pour les images d'entraînement avec augmentation\n",
        "image_gen_train = ImageDataGenerator(\n",
        "    rescale=1./255,            # Normalisation des pixels\n",
        "    rotation_range=45,         # Rotation aléatoire de 45 degrés\n",
        "    width_shift_range=0.15,    # Décalage horizontal\n",
        "    height_shift_range=0.15,   # Décalage vertical\n",
        "    shear_range=0.15,          # Déformation\n",
        "    zoom_range=0.5,            # Zoom aléatoire\n",
        "    horizontal_flip=True,      # Flip horizontal\n",
        "    fill_mode='nearest'        # Mode de remplissage des pixels\n",
        ")\n",
        "\n",
        "# Générateur pour les images de validation sans augmentation\n",
        "image_gen_val = ImageDataGenerator(rescale=1./255)\n",
        "\n",
        "train_data_gen = image_gen_train.flow_from_directory(\n",
        "    directory=train_dir,\n",
        "    target_size=(IMG_HEIGHT, IMG_WIDTH),\n",
        "    batch_size=BATCH_SIZE,\n",
        "    class_mode='binary',       # Classification binaire (chat ou chien)\n",
        "    shuffle=True\n",
        ")\n",
        "\n",
        "val_data_gen = image_gen_val.flow_from_directory(\n",
        "    directory=validation_dir,\n",
        "    target_size=(IMG_HEIGHT, IMG_WIDTH),\n",
        "    batch_size=BATCH_SIZE,\n",
        "    class_mode='binary',       # Classification binaire\n",
        "    shuffle=True\n",
        ")\n",
        "\n",
        "# Vérifiez les images chargées\n",
        "print(train_data_gen.class_indices)\n"
      ],
      "metadata": {
        "colab": {
          "base_uri": "https://localhost:8080/"
        },
        "id": "Ns-nrHaEUkpI",
        "outputId": "77544ed4-a35c-4d0d-cf82-566847917949"
      },
      "execution_count": 9,
      "outputs": [
        {
          "output_type": "stream",
          "name": "stdout",
          "text": [
            "Fichiers extraits dans le répertoire :\n",
            "['train', 'test']\n",
            "Les répertoires 'cats' et 'dogs' n'ont pas été trouvés dans le fichier extrait.\n",
            "Répertoires d'entraînement :\n",
            "Chats : []\n",
            "Chiens : []\n",
            "Répertoires de validation :\n",
            "Chats : []\n",
            "Chiens : []\n",
            "Found 0 images belonging to 2 classes.\n",
            "Found 0 images belonging to 2 classes.\n",
            "{'cats': 0, 'dogs': 1}\n"
          ]
        }
      ]
    },
    {
      "cell_type": "code",
      "source": [
        "import os\n",
        "\n",
        "# Vérifiez les fichiers extraits dans le répertoire\n",
        "print(\"Fichiers extraits dans le répertoire :\")\n",
        "print(os.listdir('/content/PetImages'))  # Affiche la structure du dossier\n"
      ],
      "metadata": {
        "colab": {
          "base_uri": "https://localhost:8080/"
        },
        "id": "mn3EEFK4VbQ5",
        "outputId": "98a02b0c-4034-47d2-eec9-5aeb4fce1123"
      },
      "execution_count": 10,
      "outputs": [
        {
          "output_type": "stream",
          "name": "stdout",
          "text": [
            "Fichiers extraits dans le répertoire :\n",
            "['train', 'test']\n"
          ]
        }
      ]
    },
    {
      "cell_type": "code",
      "source": [
        "import os\n",
        "\n",
        "\n",
        "base_dir = '/content/PetImages'\n",
        "train_dir = '/content/train'\n",
        "validation_dir = '/content/validation'\n",
        "\n",
        "train_cats_dir = os.path.join(train_dir, 'cats')\n",
        "train_dogs_dir = os.path.join(train_dir, 'dogs')\n",
        "validation_cats_dir = os.path.join(validation_dir, 'cats')\n",
        "validation_dogs_dir = os.path.join(validation_dir, 'dogs')\n",
        "\n",
        "for directory in [train_cats_dir, train_dogs_dir, validation_cats_dir, validation_dogs_dir]:\n",
        "    os.makedirs(directory, exist_ok=True)\n"
      ],
      "metadata": {
        "id": "A2XqLvH0VjW4"
      },
      "execution_count": 11,
      "outputs": []
    },
    {
      "cell_type": "code",
      "source": [
        "\n",
        "for directory in [train_cats_dir, train_dogs_dir, validation_cats_dir, validation_dogs_dir]:\n",
        "    os.makedirs(directory, exist_ok=True)\n",
        "\n",
        "\n",
        "def split_images(src_dir, train_dir, validation_dir, test_size=0.2):\n",
        "\n",
        "    all_files = os.listdir(src_dir)\n",
        "\n",
        "    train_files, val_files = train_test_split(all_files, test_size=test_size)\n",
        "\n",
        "\n",
        "    for file in train_files:\n",
        "        shutil.move(os.path.join(src_dir, file), os.path.join(train_dir, file))\n",
        "\n",
        "    for file in val_files:\n",
        "        shutil.move(os.path.join(src_dir, file), os.path.join(validation_dir, file))\n",
        "\n",
        "\n",
        "with zipfile.ZipFile('Dogs vs Cats.zip.1', 'r') as zip_ref:\n",
        "    zip_ref.extractall(base_dir)\n",
        "\n",
        "print(\"Fichiers extraits dans le répertoire :\")\n",
        "print(os.listdir(base_dir))\n",
        "\n",
        "if 'cats' in os.listdir(base_dir) and 'dogs' in os.listdir(base_dir):\n",
        "    split_images(os.path.join(base_dir, 'cats'), train_cats_dir, validation_cats_dir)\n",
        "    split_images(os.path.join(base_dir, 'dogs'), train_dogs_dir, validation_dogs_dir)\n",
        "else:\n",
        "    print(\"Les répertoires 'cats' et 'dogs' n'ont pas été trouvés dans le fichier extrait.\")\n"
      ],
      "metadata": {
        "colab": {
          "base_uri": "https://localhost:8080/"
        },
        "id": "wlW7YTWGVyfW",
        "outputId": "1186ad33-075c-4a61-de5e-62a108def729"
      },
      "execution_count": 15,
      "outputs": [
        {
          "output_type": "stream",
          "name": "stdout",
          "text": [
            "Fichiers extraits dans le répertoire :\n",
            "['train', 'test']\n",
            "Les répertoires 'cats' et 'dogs' n'ont pas été trouvés dans le fichier extrait.\n"
          ]
        }
      ]
    },
    {
      "cell_type": "code",
      "source": [
        "# Vérification de la structure des répertoires après déplacement\n",
        "print(\"Répertoires d'entraînement :\")\n",
        "print(f\"Chats : {os.listdir(train_cats_dir)}\")\n",
        "print(f\"Chiens : {os.listdir(train_dogs_dir)}\")\n",
        "\n",
        "print(\"Répertoires de validation :\")\n",
        "print(f\"Chats : {os.listdir(validation_cats_dir)}\")\n",
        "print(f\"Chiens : {os.listdir(validation_dogs_dir)}\")"
      ],
      "metadata": {
        "colab": {
          "base_uri": "https://localhost:8080/"
        },
        "id": "la7oIMfoWx9q",
        "outputId": "e09d46b8-bb83-42ed-df13-f0ada76d47d2"
      },
      "execution_count": 16,
      "outputs": [
        {
          "output_type": "stream",
          "name": "stdout",
          "text": [
            "Répertoires d'entraînement :\n",
            "Chats : []\n",
            "Chiens : []\n",
            "Répertoires de validation :\n",
            "Chats : []\n",
            "Chiens : []\n"
          ]
        }
      ]
    },
    {
      "cell_type": "code",
      "source": [
        "\n",
        "from tensorflow.keras.preprocessing.image import ImageDataGenerator\n",
        "\n",
        "IMG_HEIGHT = 150\n",
        "IMG_WIDTH = 150\n",
        "BATCH_SIZE = 32\n",
        "\n",
        "\n",
        "image_gen_train = ImageDataGenerator(\n",
        "    rescale=1./255,\n",
        "    rotation_range=45,\n",
        "    width_shift_range=0.15,\n",
        "    height_shift_range=0.15,\n",
        "    shear_range=0.15,\n",
        "    zoom_range=0.5,\n",
        "    horizontal_flip=True,\n",
        "    fill_mode='nearest'\n",
        ")"
      ],
      "metadata": {
        "id": "fhfmLBkjXCM-"
      },
      "execution_count": 19,
      "outputs": []
    },
    {
      "cell_type": "code",
      "source": [
        "# Générateur pour les images de validation sans augmentation\n",
        "image_gen_val = ImageDataGenerator(rescale=1./255)\n",
        "\n",
        "train_data_gen = image_gen_train.flow_from_directory(\n",
        "    directory=train_dir,\n",
        "    target_size=(IMG_HEIGHT, IMG_WIDTH),\n",
        "    batch_size=BATCH_SIZE,\n",
        "    class_mode='binary',       # Classification binaire (chat ou chien)\n",
        "    shuffle=True\n",
        ")\n",
        "\n",
        "val_data_gen = image_gen_val.flow_from_directory(\n",
        "    directory=validation_dir,\n",
        "    target_size=(IMG_HEIGHT, IMG_WIDTH),\n",
        "    batch_size=BATCH_SIZE,\n",
        "    class_mode='binary',       # Classification binaire\n",
        "    shuffle=True\n",
        ")\n",
        "\n",
        "# Vérifiez les images chargées\n",
        "print(train_data_gen.class_indices)"
      ],
      "metadata": {
        "colab": {
          "base_uri": "https://localhost:8080/"
        },
        "id": "IvnogsVuX9T3",
        "outputId": "1831956f-064a-4df2-9887-7f2e2c1d0f0b"
      },
      "execution_count": 20,
      "outputs": [
        {
          "output_type": "stream",
          "name": "stdout",
          "text": [
            "Found 0 images belonging to 2 classes.\n",
            "Found 0 images belonging to 2 classes.\n",
            "{'cats': 0, 'dogs': 1}\n"
          ]
        }
      ]
    }
  ]
}